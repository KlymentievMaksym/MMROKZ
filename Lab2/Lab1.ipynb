{
 "cells": [
  {
   "cell_type": "code",
   "execution_count": 5,
   "id": "f0cf1622",
   "metadata": {},
   "outputs": [],
   "source": [
    "# import os\n",
    "from pathlib import Path\n",
    "\n",
    "import cv2\n",
    "\n",
    "import numpy as np\n",
    "\n",
    "from matplotlib import pyplot as plt\n",
    "plt.rcParams['figure.figsize'] = [15, 10]"
   ]
  },
  {
   "cell_type": "code",
   "execution_count": 6,
   "id": "01b6f7d7",
   "metadata": {},
   "outputs": [],
   "source": [
    "def read_image(image_path, plot=False):\n",
    "    img = cv2.imread(image_path)\n",
    "    img = cv2.cvtColor(img, cv2.COLOR_BGR2RGB)\n",
    "    if plot:\n",
    "        plt.imshow(img)\n",
    "        plt.show()\n",
    "    return img\n",
    "\n",
    "def show_compare(image1, image2):\n",
    "    plt.subplot(121), plt.imshow(image1)\n",
    "    plt.subplot(122), plt.imshow(image2)\n",
    "    plt.show()"
   ]
  },
  {
   "cell_type": "code",
   "execution_count": null,
   "id": "41b58b43",
   "metadata": {},
   "outputs": [
    {
     "ename": "SyntaxError",
     "evalue": "invalid syntax (4289141409.py, line 34)",
     "output_type": "error",
     "traceback": [
      "  \u001b[36mCell\u001b[39m\u001b[36m \u001b[39m\u001b[32mIn[4]\u001b[39m\u001b[32m, line 34\u001b[39m\n\u001b[31m    \u001b[39m\u001b[31mmean_r =\u001b[39m\n             ^\n\u001b[31mSyntaxError\u001b[39m\u001b[31m:\u001b[39m invalid syntax\n"
     ]
    }
   ],
   "source": [
    "def white_patch(image):\n",
    "    # Define white patch and the coefficients\n",
    "    row, col = 485, 864 \n",
    "    white = image[row, col, :]\n",
    "    coeffs = 255.0/white\n",
    "\n",
    "    # Apply white balancing and generate balanced image\n",
    "    balanced = np.zeros_like(image, dtype=np.float32)\n",
    "    for channel in range(3):\n",
    "        balanced[..., channel] = image[..., channel] * coeffs[channel]\n",
    "\n",
    "    # White patching does not guarantee that the dynamic range is preserved, images must be clipped.\n",
    "    balanced = balanced/255\n",
    "    balanced[balanced > 1] = 1\n",
    "\n",
    "    show_compare(image, balanced)\n",
    "\n",
    "\n",
    "def gray_world(image):\n",
    "    # Compute the mean values for all three colour channels (red, green, blue)\n",
    "    mean_r = \n",
    "    mean_g = \n",
    "    mean_b = \n",
    "\n",
    "    # Compute the coefficients kr, kg, kb\n",
    "    # Note: there are 3 coefficients to compute but we only have 2 equations.\n",
    "    # Therefore, you have to make an assumption, fix the value of one of the\n",
    "    # coefficients and compute the remining two\n",
    "    # Hint: You can fix the coefficient of the brightest colour channel to 1.\n",
    "    kr = \n",
    "    kg = \n",
    "    kb = \n",
    "\n",
    "    # Apply color balancing and generate the balanced image\n",
    "    balanced = \n",
    "\n",
    "    # Show the original and the balanced image side by side\n",
    "    show_compare(image, balanced)\n",
    "\n",
    "\n",
    "def scale_by_max(image):\n",
    "    # Compute the maximum values for all three colour channels (red, green, blue)\n",
    "    max_r = \n",
    "    max_g = \n",
    "    max_b = \n",
    "\n",
    "    # Apply scale-by-max balancing and generate the balanced image\n",
    "    balanced =\n",
    "\n",
    "    show_compare(image, balanced)\n"
   ]
  },
  {
   "cell_type": "code",
   "execution_count": 7,
   "id": "62df44e5",
   "metadata": {},
   "outputs": [
    {
     "name": "stdout",
     "output_type": "stream",
     "text": [
      "..\\data\\1344829.png\n",
      "..\\data\\1349488.jpeg\n",
      "..\\data\\1350497.png\n",
      "..\\data\\1351987.jpeg\n",
      "..\\data\\1354206.jpeg\n",
      "..\\data\\43600825d9abb54db2aeeadadecf463b.jpg\n",
      "..\\data\\987919.jpg\n",
      "..\\data\\dark.png\n",
      "..\\data\\kodim05.jpg\n",
      "..\\data\\kodim21.png\n",
      "..\\data\\nikita-pishchugin-KDQ1BH-I3q4-unsplash.jpg\n",
      "..\\data\\sea.jpg\n",
      "..\\data\\tire.png\n",
      "..\\data\\vivek-7NgbMrUB60A-unsplash.jpg\n"
     ]
    }
   ],
   "source": [
    "data_dir = Path(\"../data\")\n",
    "for image_path in data_dir.iterdir():\n",
    "    print(image_path)\n",
    "    image = read_image(image_path)"
   ]
  }
 ],
 "metadata": {
  "kernelspec": {
   "display_name": "Python 3",
   "language": "python",
   "name": "python3"
  },
  "language_info": {
   "codemirror_mode": {
    "name": "ipython",
    "version": 3
   },
   "file_extension": ".py",
   "mimetype": "text/x-python",
   "name": "python",
   "nbconvert_exporter": "python",
   "pygments_lexer": "ipython3",
   "version": "3.13.7"
  }
 },
 "nbformat": 4,
 "nbformat_minor": 5
}

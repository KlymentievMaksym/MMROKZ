{
 "cells": [
  {
   "cell_type": "code",
   "execution_count": 1,
   "id": "f0cf1622",
   "metadata": {},
   "outputs": [],
   "source": [
    "import os\n",
    "\n",
    "import cv2\n",
    "\n",
    "import numpy as np\n",
    "\n",
    "from matplotlib import pyplot as plt"
   ]
  },
  {
   "cell_type": "code",
   "execution_count": 2,
   "id": "01b6f7d7",
   "metadata": {},
   "outputs": [],
   "source": [
    "def read_image(image_path, plot=False):\n",
    "    img = cv2.imread(image_path)\n",
    "    img = cv2.cvtColor(img, cv2.COLOR_BGR2RGB)\n",
    "    if plot:\n",
    "        plt.imshow(img)\n",
    "        plt.show()\n",
    "    return img\n",
    "\n",
    "def show_compare(images: list, image_names: list = []):\n",
    "    count = len(images)\n",
    "    count_names = len(image_names)\n",
    "    fig, axes = plt.subplots(1, count)\n",
    "    for cnt in range(count):\n",
    "        axes[cnt].imshow(images[cnt])\n",
    "        axes[cnt].axis('off')\n",
    "        if cnt < count_names:\n",
    "            axes[cnt].set_title(image_names[cnt])\n",
    "    plt.show()"
   ]
  },
  {
   "cell_type": "code",
   "execution_count": 3,
   "id": "41b58b43",
   "metadata": {},
   "outputs": [],
   "source": [
    "def scale(image):\n",
    "    minimum = np.min(image)\n",
    "    filtered = (255*(image - minimum)/np.ptp(image)).astype(np.uint8)\n",
    "    return filtered\n",
    "\n",
    "    \n",
    "def clip(image):\n",
    "    filtered = np.clip(image, 0, 255).astype(np.uint8)\n",
    "    return filtered\n",
    "\n",
    "def final_remake_to_image(image, kernel):\n",
    "    sharpen = np.array([\n",
    "        [0, -1, 0,],\n",
    "        [-1, 5, -1,],\n",
    "        [0, -1, 0,],\n",
    "    ])\n",
    "    if np.sum(kernel) == 0 or (kernel.shape == sharpen.shape and np.all(kernel  == sharpen)):\n",
    "        print(\"Cliping array...\")\n",
    "        filtered = clip(image)\n",
    "    else:\n",
    "        print(\"Scaling array...\")\n",
    "        filtered = scale(image)\n",
    "    return filtered\n",
    "\n",
    "\n",
    "def apply_kernel_filter(image: np.ndarray, kernel: np.ndarray) -> np.ndarray:\n",
    "    kh, kw = kernel.shape\n",
    "    H, W, C = image.shape\n",
    "\n",
    "    pad_h = kernel.shape[0]//2\n",
    "    pad_v = kernel.shape[1]//2\n",
    "\n",
    "    image_with_kernel = image.copy()\n",
    "    image_padded = np.pad(image, ((pad_h, pad_h), (pad_v, pad_v), (0, 0)), mode='edge')\n",
    "\n",
    "    image_with_kernel = np.zeros_like(image, dtype=np.float32)\n",
    "\n",
    "    for ch in range(C):\n",
    "        windows = np.zeros((H, W, kh, kw), dtype=np.float32)\n",
    "        for i in range(kh):\n",
    "            for j in range(kw):\n",
    "                windows[:, :, i, j] = image_padded[i:i+H, j:j+W, ch]\n",
    "\n",
    "        image_with_kernel[..., ch] = np.sum(windows * kernel, axis=(2, 3))\n",
    "\n",
    "    return final_remake_to_image(image_with_kernel, kernel)\n",
    "\n",
    "# apply_kernel_filter(image_float, gaussian)"
   ]
  },
  {
   "cell_type": "code",
   "execution_count": 4,
   "id": "d4f5236f",
   "metadata": {},
   "outputs": [],
   "source": [
    "image_paths = [\"../data/\" + path for path in os.listdir(\"../data\")]\n",
    "plt.rcParams['figure.figsize'] = [15, 10]"
   ]
  },
  {
   "cell_type": "code",
   "execution_count": 5,
   "id": "62df44e5",
   "metadata": {},
   "outputs": [
    {
     "name": "stdout",
     "output_type": "stream",
     "text": [
      "../data/1344829.png\n",
      "../data/1349488.jpeg\n",
      "../data/1350497.png\n",
      "../data/1351987.jpeg\n",
      "../data/1354206.jpeg\n",
      "../data/43600825d9abb54db2aeeadadecf463b.jpg\n",
      "../data/987919.jpg\n",
      "../data/dark.png\n",
      "../data/kodim01.png\n",
      "../data/kodim05.jpg\n",
      "../data/kodim07.png\n",
      "../data/kodim21.png\n",
      "../data/nikita-pishchugin-KDQ1BH-I3q4-unsplash.jpg\n",
      "../data/sea.jpg\n",
      "../data/tire.png\n",
      "../data/vivek-7NgbMrUB60A-unsplash.jpg\n"
     ]
    }
   ],
   "source": [
    "# visible_diff = [\"../data/1344829.png\", \"../data/1350497.png\", \"../data/dark.png\", \"../data/kodim01.png\", \"../data/kodim05.jpg\", \"../data/kodim07.png\", \"../data/tire.png\"]\n",
    "for image_path in image_paths:\n",
    "# for image_path in visible_diff:\n",
    "    print(image_path)\n",
    "    image = read_image(image_path)\n"
   ]
  }
 ],
 "metadata": {
  "kernelspec": {
   "display_name": "Python 3",
   "language": "python",
   "name": "python3"
  },
  "language_info": {
   "codemirror_mode": {
    "name": "ipython",
    "version": 3
   },
   "file_extension": ".py",
   "mimetype": "text/x-python",
   "name": "python",
   "nbconvert_exporter": "python",
   "pygments_lexer": "ipython3",
   "version": "3.13.7"
  }
 },
 "nbformat": 4,
 "nbformat_minor": 5
}
